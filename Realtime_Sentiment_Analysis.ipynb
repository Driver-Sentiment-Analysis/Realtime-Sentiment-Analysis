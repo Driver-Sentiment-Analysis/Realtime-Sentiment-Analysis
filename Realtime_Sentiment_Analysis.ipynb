{
 "cells": [
  {
   "cell_type": "code",
   "execution_count": null,
   "id": "f5082c4e",
   "metadata": {},
   "outputs": [],
   "source": [
    "import cv2 \n",
    "import numpy as np\n",
    "\n",
    "from keras.models import model_from_json\n",
    "\n",
    "emotion_dict={0: \"Angry\", 1: \"Disgust\", 2: \"Fear\", 3: \"Happy\", \n",
    "                    4: \"Neutral\", 5: \"Sad\", 6: \"Surprise\"}\n",
    "\n",
    "#Load json and create model\n",
    "json_file=open(\"C:\\\\Users\\\\Lenovobhavya\\\\Documents\\\\Project_PBL\\\\data\\\\emotion_model_new.json\", 'r')\n",
    "loaded_model_json=json_file.read()\n",
    "json_file.close ()\n",
    "VGG16_emotion=model_from_json(loaded_model_json)\n",
    "#Load weights into new model\n",
    "VGG16_emotion.load_weights(\"C:\\\\Users\\\\Lenovobhavya\\\\Documents\\\\Project_PBL\\\\data\\\\emotion_model_new.h5\")\n",
    "print(\"loaded model from disk\")\n",
    "#start the webcam feed\n",
    "cap=cv2.VideoCapture (\"E:\\\\Final_year Project\\\\Training Videos\\\\SURPRISED\\\\surprised 7.mp4\")\n",
    "while True:\n",
    "    #Find haar cascade to draw bounding box around face\n",
    "    ret, frame=cap.read ()\n",
    "    frame=cv2.resize(frame, (400,400))\n",
    "    if not ret:\n",
    "        break\n",
    "    face_detector=cv2.CascadeClassifier(cv2.data.haarcascades + \"haarcascade_frontalface_default.xml\")\n",
    "    gray_frame=cv2.cvtColor(frame, cv2.COLOR_BGR2GRAY)\n",
    "    \n",
    "    \n",
    "    #detect faces available in video\n",
    "    num_faces=face_detector.detectMultiScale(gray_frame, scaleFactor=1.32, minNeighbors=5)\n",
    "    #take each face available in the video and Preprocess it\n",
    "    for (x, y, w, h) in num_faces:\n",
    "        cv2.rectangle(frame, (x, y), (x+w, y+h), (0, 255, 0),2)\n",
    "        roi_gray_frame=gray_frame [y:y+w, x:x+h]\n",
    "        img_pix= np.expand_dims (np.expand_dims(cv2.resize(roi_gray_frame, (48, 48)), -1), 0)        \n",
    "\n",
    "        \n",
    "        #predict the emotions\n",
    "        prediction=VGG16_emotion.predict(img_pix)\n",
    "        maxindex = int(np.argmax (prediction))\n",
    "        cv2. putText(frame, emotion_dict[maxindex], (x+5, y-20), cv2. FONT_HERSHEY_SIMPLEX, 1, (0, 0, 255), 2, cv2.LINE_AA)            \n",
    "    #resized_img = cv2.resize(frame,(1000,700))\n",
    "    #cv2.imshow('Face Sentiment Recognition', resized_img)\n",
    "    cv2.imshow('Emotion Detection', frame)\n",
    "    \n",
    "    if cv2.waitKey(10) == ord('q'):\n",
    "        break\n",
    "\n",
    "cap.release()\n",
    "cv2.destroyAllWindows()"
   ]
  }
 ],
 "metadata": {
  "kernelspec": {
   "display_name": "Python 3 (ipykernel)",
   "language": "python",
   "name": "python3"
  },
  "language_info": {
   "codemirror_mode": {
    "name": "ipython",
    "version": 3
   },
   "file_extension": ".py",
   "mimetype": "text/x-python",
   "name": "python",
   "nbconvert_exporter": "python",
   "pygments_lexer": "ipython3",
   "version": "3.8.13"
  }
 },
 "nbformat": 4,
 "nbformat_minor": 5
}
