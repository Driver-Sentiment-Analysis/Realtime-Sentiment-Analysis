{
 "cells": [
  {
   "cell_type": "code",
   "execution_count": 1,
   "id": "52bdf3da",
   "metadata": {},
   "outputs": [],
   "source": [
    "from keras.preprocessing.image import ImageDataGenerator\n",
    "from keras.applications.vgg19 import VGG19\n",
    "from keras.layers import Flatten, Dense, Dropout, Conv2D, MaxPool2D,BatchNormalization, LSTM, CuDNNLSTM, MaxPooling2D\n",
    "from keras.models import Sequential\n",
    "from keras import regularizers\n",
    "import keras\n",
    "\n",
    "from keras.layers import TimeDistributed\n",
    "from keras.layers import GlobalAveragePooling2D\n",
    "from tensorflow.keras.applications import MobileNetV2\n",
    "\n",
    "from tensorflow.keras.optimizers import Adam\n",
    "import tensorflow as tf\n",
    "\n",
    "import matplotlib.pyplot as plt\n",
    "import cv2"
   ]
  },
  {
   "cell_type": "code",
   "execution_count": null,
   "id": "9b7b2cdb",
   "metadata": {},
   "outputs": [],
   "source": []
  },
  {
   "cell_type": "code",
   "execution_count": null,
   "id": "e84c0e75",
   "metadata": {},
   "outputs": [],
   "source": []
  },
  {
   "cell_type": "code",
   "execution_count": 2,
   "id": "e2a49d52",
   "metadata": {},
   "outputs": [
    {
     "name": "stdout",
     "output_type": "stream",
     "text": [
      "Found 18670 images belonging to 7 classes.\n",
      "Found 11200 images belonging to 7 classes.\n"
     ]
    }
   ],
   "source": [
    "image_generator = ImageDataGenerator(\n",
    "    rescale=1./255, \n",
    "    horizontal_flip=2, \n",
    "    vertical_flip=2\n",
    ")    \n",
    "\n",
    "training_set = image_generator.flow_from_directory(batch_size=256,\n",
    "                                                 directory=\"E:\\\\Final_year Project\\\\Training Dataset\",\n",
    "                                                 shuffle=True,\n",
    "                                                 target_size=(48, 48), \n",
    "                                                 class_mode='categorical',\n",
    "#                                                  color_mode = \"grayscale\"\n",
    "                                                )\n",
    "\n",
    "testing_set = image_generator.flow_from_directory(batch_size=128,\n",
    "                                                 directory=\"E:\\\\Final_year Project\\\\Testing Dataset\",\n",
    "                                                 shuffle=True,\n",
    "                                                 target_size=(48, 48), \n",
    "                                                 class_mode='categorical',\n",
    "#                                                  color_mode = \"grayscale\"\n",
    "                                                 )"
   ]
  },
  {
   "cell_type": "code",
   "execution_count": 3,
   "id": "a640a8a6",
   "metadata": {},
   "outputs": [
    {
     "data": {
      "text/plain": [
       "{'ANGRY': 0,\n",
       " 'DISGUST': 1,\n",
       " 'FEAR': 2,\n",
       " 'HAPPY': 3,\n",
       " 'NEUTRAL': 4,\n",
       " 'SAD': 5,\n",
       " 'SURPRISED': 6}"
      ]
     },
     "execution_count": 3,
     "metadata": {},
     "output_type": "execute_result"
    }
   ],
   "source": [
    "training_set.class_indices"
   ]
  },
  {
   "cell_type": "code",
   "execution_count": 4,
   "id": "c57f0d16",
   "metadata": {},
   "outputs": [],
   "source": [
    "VGG_model = VGG19(\n",
    "      input_shape = (48, 48, 3),\n",
    "      include_top = False,\n",
    "      weights = 'imagenet'\n",
    "    )"
   ]
  },
  {
   "cell_type": "code",
   "execution_count": 6,
   "id": "51208256",
   "metadata": {},
   "outputs": [],
   "source": [
    "for layers in VGG_model.layers:\n",
    "    layers.trainable = False"
   ]
  },
  {
   "cell_type": "code",
   "execution_count": 7,
   "id": "f3719e1d",
   "metadata": {},
   "outputs": [
    {
     "name": "stdout",
     "output_type": "stream",
     "text": [
      "Model: \"model\"\n",
      "_________________________________________________________________\n",
      " Layer (type)                Output Shape              Param #   \n",
      "=================================================================\n",
      " input_1 (InputLayer)        [(None, 48, 48, 3)]       0         \n",
      "                                                                 \n",
      " block1_conv1 (Conv2D)       (None, 48, 48, 64)        1792      \n",
      "                                                                 \n",
      " block1_conv2 (Conv2D)       (None, 48, 48, 64)        36928     \n",
      "                                                                 \n",
      " block1_pool (MaxPooling2D)  (None, 24, 24, 64)        0         \n",
      "                                                                 \n",
      " block2_conv1 (Conv2D)       (None, 24, 24, 128)       73856     \n",
      "                                                                 \n",
      " block2_conv2 (Conv2D)       (None, 24, 24, 128)       147584    \n",
      "                                                                 \n",
      " block2_pool (MaxPooling2D)  (None, 12, 12, 128)       0         \n",
      "                                                                 \n",
      " block3_conv1 (Conv2D)       (None, 12, 12, 256)       295168    \n",
      "                                                                 \n",
      " block3_conv2 (Conv2D)       (None, 12, 12, 256)       590080    \n",
      "                                                                 \n",
      " block3_conv3 (Conv2D)       (None, 12, 12, 256)       590080    \n",
      "                                                                 \n",
      " block3_conv4 (Conv2D)       (None, 12, 12, 256)       590080    \n",
      "                                                                 \n",
      " block3_pool (MaxPooling2D)  (None, 6, 6, 256)         0         \n",
      "                                                                 \n",
      " block4_conv1 (Conv2D)       (None, 6, 6, 512)         1180160   \n",
      "                                                                 \n",
      " block4_conv2 (Conv2D)       (None, 6, 6, 512)         2359808   \n",
      "                                                                 \n",
      " block4_conv3 (Conv2D)       (None, 6, 6, 512)         2359808   \n",
      "                                                                 \n",
      " block4_conv4 (Conv2D)       (None, 6, 6, 512)         2359808   \n",
      "                                                                 \n",
      " block4_pool (MaxPooling2D)  (None, 3, 3, 512)         0         \n",
      "                                                                 \n",
      " block5_conv1 (Conv2D)       (None, 3, 3, 512)         2359808   \n",
      "                                                                 \n",
      " block5_conv2 (Conv2D)       (None, 3, 3, 512)         2359808   \n",
      "                                                                 \n",
      " block5_conv3 (Conv2D)       (None, 3, 3, 512)         2359808   \n",
      "                                                                 \n",
      " block5_conv4 (Conv2D)       (None, 3, 3, 512)         2359808   \n",
      "                                                                 \n",
      " block5_pool (MaxPooling2D)  (None, 1, 1, 512)         0         \n",
      "                                                                 \n",
      " flatten (Flatten)           (None, 512)               0         \n",
      "                                                                 \n",
      " dense (Dense)               (None, 512)               262656    \n",
      "                                                                 \n",
      " dropout (Dropout)           (None, 512)               0         \n",
      "                                                                 \n",
      " dense_1 (Dense)             (None, 14)                7182      \n",
      "                                                                 \n",
      " dense_2 (Dense)             (None, 7)                 105       \n",
      "                                                                 \n",
      "=================================================================\n",
      "Total params: 20,294,327\n",
      "Trainable params: 269,943\n",
      "Non-trainable params: 20,024,384\n",
      "_________________________________________________________________\n"
     ]
    }
   ],
   "source": [
    "x = Flatten()(VGG_model.output)\n",
    "x = Dense(512, activation = \"relu\")(x)\n",
    "x = Dropout(0.5)(x)\n",
    "x = Dense(14, activation = \"relu\")(x)\n",
    "x = Dense(7, activation = \"softmax\")(x)\n",
    "\n",
    "VGG_model = keras.Model(VGG_model.input, x)\n",
    "VGG_model.compile(loss = \"categorical_crossentropy\", optimizer = \"adam\", metrics = \"accuracy\")\n",
    "VGG_model.summary()"
   ]
  },
  {
   "cell_type": "code",
   "execution_count": null,
   "id": "445b0f02",
   "metadata": {},
   "outputs": [],
   "source": [
    "hist = VGG_model.fit(training_set, validation_data = testing_set , epochs = 10)"
   ]
  },
  {
   "cell_type": "code",
   "execution_count": null,
   "id": "1ba74f58",
   "metadata": {},
   "outputs": [],
   "source": [
    "hist = hist.history"
   ]
  },
  {
   "cell_type": "code",
   "execution_count": null,
   "id": "85b3b2f2",
   "metadata": {},
   "outputs": [],
   "source": [
    "#loss\n",
    "plt.plot(hist['loss'], label='train loss')\n",
    "plt.plot(hist['val_loss'],label='val loss')\n",
    "plt.legend()\n",
    "plt.show()\n",
    "plt.savefig('E:\\\\Final_year Project\\\\VGG19_LossVal_loss')\n",
    "\n",
    "#accuracy\n",
    "plt.plot(hist['accuracy'], label='train acc')\n",
    "plt.plot(hist['val_accuracy'],label='val acc')\n",
    "plt.legend()\n",
    "plt.show()\n",
    "plt.savefig('E:\\\\Final_year Project\\\\VGG19_AccVal_acc')"
   ]
  },
  {
   "cell_type": "code",
   "execution_count": null,
   "id": "44f3517f",
   "metadata": {},
   "outputs": [],
   "source": [
    "VGG_model.save(\"C:\\\\Users\\\\Lenovobhavya\\\\Documents\\\\Project_PBL\\\\data\\\\VGG19v1.h5\")\n",
    "model_json=VGG_model.to_json()\n",
    "with open(\"C:\\\\Users\\\\Lenovobhavya\\\\Documents\\\\Project_PBL\\\\data\\\\VGG19.json\", \"w\") as json_file:\n",
    "    json_file.write(model_json)"
   ]
  },
  {
   "cell_type": "code",
   "execution_count": null,
   "id": "efb17126",
   "metadata": {},
   "outputs": [],
   "source": [
    "yhat_test = np.argmax(model.predict(X_test), axis=1)\n",
    "ytest_ = np.argmax(y_test, axis=1)\n",
    "\n",
    "scikitplot.metrics.plot_confusion_matrix(ytest_, yhat_test, figsize=(7,7))\n",
    "pyplot.savefig(\"confusion_matrix_mobilenet.png\")\n",
    "\n",
    "test_accu = np.sum(ytest_ == yhat_test) / len(ytest_) * 100\n",
    "print(f\"test accuracy: {round(test_accu, 4)} %\\n\\n\")\n",
    "\n",
    "print(classification_report(ytest_, yhat_test))"
   ]
  },
  {
   "cell_type": "code",
   "execution_count": null,
   "id": "6c023e47",
   "metadata": {},
   "outputs": [],
   "source": []
  }
 ],
 "metadata": {
  "kernelspec": {
   "display_name": "Python 3 (ipykernel)",
   "language": "python",
   "name": "python3"
  },
  "language_info": {
   "codemirror_mode": {
    "name": "ipython",
    "version": 3
   },
   "file_extension": ".py",
   "mimetype": "text/x-python",
   "name": "python",
   "nbconvert_exporter": "python",
   "pygments_lexer": "ipython3",
   "version": "3.8.13"
  }
 },
 "nbformat": 4,
 "nbformat_minor": 5
}
